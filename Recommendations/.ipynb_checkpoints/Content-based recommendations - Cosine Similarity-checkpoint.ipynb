{
 "cells": [
  {
   "cell_type": "markdown",
   "metadata": {},
   "source": [
    "### Setup"
   ]
  },
  {
   "cell_type": "markdown",
   "metadata": {},
   "source": [
    "- python: 3.7.0\n",
    "- environment: recommendations"
   ]
  },
  {
   "cell_type": "markdown",
   "metadata": {},
   "source": [
    "### Courtesy"
   ]
  },
  {
   "cell_type": "markdown",
   "metadata": {},
   "source": [
    "- linear kernel: https://scikit-learn.org/stable/modules/generated/sklearn.metrics.pairwise.linear_kernel.html#sklearn.metrics.pairwise.linear_kernel\n",
    "\n",
    "- cosine_similarity: https://scikit-learn.org/stable/modules/generated/sklearn.metrics.pairwise.cosine_similarity.html#sklearn.metrics.pairwise.cosine_similarity\n",
    "\n",
    "- Contents from Machine Learning Mastery: https://machinelearningmastery.com/\n",
    "\n",
    "- Cosine Similarity concepts:\n",
    "  - http://blog.christianperone.com/2013/09/machine-learning-cosine-similarity-for-vector-space-models-part-iii/\n",
    "  - http://www.site.uottawa.ca/~diana/csi4107/cosine_tf_idf_example.pdf"
   ]
  },
  {
   "cell_type": "markdown",
   "metadata": {},
   "source": [
    "### Installation"
   ]
  },
  {
   "cell_type": "code",
   "execution_count": 61,
   "metadata": {},
   "outputs": [],
   "source": [
    "# !pip3 install -U scikit-learn"
   ]
  },
  {
   "cell_type": "markdown",
   "metadata": {},
   "source": [
    "### Initialization"
   ]
  },
  {
   "cell_type": "code",
   "execution_count": 62,
   "metadata": {},
   "outputs": [],
   "source": [
    "# Import packages\n",
    "\n",
    "import numpy as np\n",
    "import pandas as pd\n",
    "from time import time\n",
    "import json\n",
    "import csv\n",
    "import math"
   ]
  },
  {
   "cell_type": "code",
   "execution_count": 15,
   "metadata": {},
   "outputs": [],
   "source": [
    "# \"Scrubbed MLM articles.json\" has all the dataset in the form of JSON.\n",
    "# We will convert this JSON data into appropriate rows and columns format i.e CSV.\n",
    "\n",
    "# open a file.\n",
    "json_file = open(\"Scrubbed MLM articles.json\")\n",
    "\n",
    "# load JSON contents\n",
    "json_contents = json.load(json_contents)"
   ]
  },
  {
   "cell_type": "code",
   "execution_count": 26,
   "metadata": {},
   "outputs": [],
   "source": [
    "# Prepare an array that will hold the list of arrays (that will correspond to rows).\n",
    "# This has:\n",
    "#   Column 1: counter/row number.\n",
    "#   Column 2: title of the document\n",
    "metadata = []\n",
    "\n",
    "for index, entry in enumerate(json_contents):\n",
    "    data = []\n",
    "    data.append(index + 1)\n",
    "    data.append(entry['title'])\n",
    "    metadata.append(data)"
   ]
  },
  {
   "cell_type": "code",
   "execution_count": 43,
   "metadata": {},
   "outputs": [],
   "source": [
    "# Write the metadata to the \"dataset.csv\".\n",
    "\n",
    "csv_file = open(\"dataset.csv\", \"w\")\n",
    "\n",
    "with csv_file:\n",
    "    writer = csv.writer(csv_file)\n",
    "    writer.writerow(['counter', 'title'])\n",
    "    writer.writerows(metadata)"
   ]
  },
  {
   "cell_type": "markdown",
   "metadata": {},
   "source": [
    "### Data Exploration"
   ]
  },
  {
   "cell_type": "code",
   "execution_count": 44,
   "metadata": {},
   "outputs": [],
   "source": [
    "dataset = pd.read_csv(\"dataset.csv\")"
   ]
  },
  {
   "cell_type": "code",
   "execution_count": 45,
   "metadata": {},
   "outputs": [
    {
     "data": {
      "text/html": [
       "<div>\n",
       "<style scoped>\n",
       "    .dataframe tbody tr th:only-of-type {\n",
       "        vertical-align: middle;\n",
       "    }\n",
       "\n",
       "    .dataframe tbody tr th {\n",
       "        vertical-align: top;\n",
       "    }\n",
       "\n",
       "    .dataframe thead th {\n",
       "        text-align: right;\n",
       "    }\n",
       "</style>\n",
       "<table border=\"1\" class=\"dataframe\">\n",
       "  <thead>\n",
       "    <tr style=\"text-align: right;\">\n",
       "      <th></th>\n",
       "      <th>counter</th>\n",
       "      <th>title</th>\n",
       "    </tr>\n",
       "  </thead>\n",
       "  <tbody>\n",
       "    <tr>\n",
       "      <th>0</th>\n",
       "      <td>1</td>\n",
       "      <td>A Gentle Introduction to Early Stopping to Avo...</td>\n",
       "    </tr>\n",
       "  </tbody>\n",
       "</table>\n",
       "</div>"
      ],
      "text/plain": [
       "   counter                                              title\n",
       "0        1  A Gentle Introduction to Early Stopping to Avo..."
      ]
     },
     "metadata": {},
     "output_type": "display_data"
    }
   ],
   "source": [
    "display(dataset.head(n=1))"
   ]
  },
  {
   "cell_type": "code",
   "execution_count": 37,
   "metadata": {},
   "outputs": [
    {
     "data": {
      "text/plain": [
       "(683, 2)"
      ]
     },
     "execution_count": 37,
     "metadata": {},
     "output_type": "execute_result"
    }
   ],
   "source": [
    "dataset.shape"
   ]
  },
  {
   "cell_type": "code",
   "execution_count": 38,
   "metadata": {},
   "outputs": [
    {
     "data": {
      "text/html": [
       "<div>\n",
       "<style scoped>\n",
       "    .dataframe tbody tr th:only-of-type {\n",
       "        vertical-align: middle;\n",
       "    }\n",
       "\n",
       "    .dataframe tbody tr th {\n",
       "        vertical-align: top;\n",
       "    }\n",
       "\n",
       "    .dataframe thead th {\n",
       "        text-align: right;\n",
       "    }\n",
       "</style>\n",
       "<table border=\"1\" class=\"dataframe\">\n",
       "  <thead>\n",
       "    <tr style=\"text-align: right;\">\n",
       "      <th></th>\n",
       "      <th>1</th>\n",
       "    </tr>\n",
       "  </thead>\n",
       "  <tbody>\n",
       "    <tr>\n",
       "      <th>count</th>\n",
       "      <td>683.000000</td>\n",
       "    </tr>\n",
       "    <tr>\n",
       "      <th>mean</th>\n",
       "      <td>343.000000</td>\n",
       "    </tr>\n",
       "    <tr>\n",
       "      <th>std</th>\n",
       "      <td>197.309402</td>\n",
       "    </tr>\n",
       "    <tr>\n",
       "      <th>min</th>\n",
       "      <td>2.000000</td>\n",
       "    </tr>\n",
       "    <tr>\n",
       "      <th>25%</th>\n",
       "      <td>172.500000</td>\n",
       "    </tr>\n",
       "    <tr>\n",
       "      <th>50%</th>\n",
       "      <td>343.000000</td>\n",
       "    </tr>\n",
       "    <tr>\n",
       "      <th>75%</th>\n",
       "      <td>513.500000</td>\n",
       "    </tr>\n",
       "    <tr>\n",
       "      <th>max</th>\n",
       "      <td>684.000000</td>\n",
       "    </tr>\n",
       "  </tbody>\n",
       "</table>\n",
       "</div>"
      ],
      "text/plain": [
       "                1\n",
       "count  683.000000\n",
       "mean   343.000000\n",
       "std    197.309402\n",
       "min      2.000000\n",
       "25%    172.500000\n",
       "50%    343.000000\n",
       "75%    513.500000\n",
       "max    684.000000"
      ]
     },
     "metadata": {},
     "output_type": "display_data"
    }
   ],
   "source": [
    "display(dataset.describe())"
   ]
  },
  {
   "cell_type": "markdown",
   "metadata": {},
   "source": [
    "##### Data fields"
   ]
  },
  {
   "cell_type": "markdown",
   "metadata": {},
   "source": [
    "- `counter`: represents the row number.\n",
    "- `title`: title of the document."
   ]
  },
  {
   "cell_type": "code",
   "execution_count": 48,
   "metadata": {},
   "outputs": [
    {
     "name": "stdout",
     "output_type": "stream",
     "text": [
      "Total number of the entries: 684\n"
     ]
    }
   ],
   "source": [
    "print(\"Total number of the entries:\", len(dataset))"
   ]
  },
  {
   "cell_type": "markdown",
   "metadata": {},
   "source": [
    "##### Quick statistics by studying the length of the characters in title"
   ]
  },
  {
   "cell_type": "code",
   "execution_count": 49,
   "metadata": {},
   "outputs": [],
   "source": [
    "dataset[\"title_length\"] = dataset['title'].str.len()"
   ]
  },
  {
   "cell_type": "code",
   "execution_count": 50,
   "metadata": {},
   "outputs": [
    {
     "data": {
      "text/html": [
       "<div>\n",
       "<style scoped>\n",
       "    .dataframe tbody tr th:only-of-type {\n",
       "        vertical-align: middle;\n",
       "    }\n",
       "\n",
       "    .dataframe tbody tr th {\n",
       "        vertical-align: top;\n",
       "    }\n",
       "\n",
       "    .dataframe thead th {\n",
       "        text-align: right;\n",
       "    }\n",
       "</style>\n",
       "<table border=\"1\" class=\"dataframe\">\n",
       "  <thead>\n",
       "    <tr style=\"text-align: right;\">\n",
       "      <th></th>\n",
       "      <th>counter</th>\n",
       "      <th>title</th>\n",
       "      <th>title_length</th>\n",
       "    </tr>\n",
       "  </thead>\n",
       "  <tbody>\n",
       "    <tr>\n",
       "      <th>0</th>\n",
       "      <td>1</td>\n",
       "      <td>A Gentle Introduction to Early Stopping to Avo...</td>\n",
       "      <td>97</td>\n",
       "    </tr>\n",
       "    <tr>\n",
       "      <th>1</th>\n",
       "      <td>2</td>\n",
       "      <td>How to Reduce Overfitting With Dropout Regular...</td>\n",
       "      <td>62</td>\n",
       "    </tr>\n",
       "    <tr>\n",
       "      <th>2</th>\n",
       "      <td>3</td>\n",
       "      <td>A Gentle Introduction to Dropout for Regulariz...</td>\n",
       "      <td>70</td>\n",
       "    </tr>\n",
       "    <tr>\n",
       "      <th>3</th>\n",
       "      <td>4</td>\n",
       "      <td>How to Reduce Generalization Error in Deep Neu...</td>\n",
       "      <td>96</td>\n",
       "    </tr>\n",
       "    <tr>\n",
       "      <th>4</th>\n",
       "      <td>5</td>\n",
       "      <td>Activation Regularization for Reducing General...</td>\n",
       "      <td>92</td>\n",
       "    </tr>\n",
       "  </tbody>\n",
       "</table>\n",
       "</div>"
      ],
      "text/plain": [
       "   counter                                              title  title_length\n",
       "0        1  A Gentle Introduction to Early Stopping to Avo...            97\n",
       "1        2  How to Reduce Overfitting With Dropout Regular...            62\n",
       "2        3  A Gentle Introduction to Dropout for Regulariz...            70\n",
       "3        4  How to Reduce Generalization Error in Deep Neu...            96\n",
       "4        5  Activation Regularization for Reducing General...            92"
      ]
     },
     "metadata": {},
     "output_type": "display_data"
    }
   ],
   "source": [
    "display(dataset.head(n=5))"
   ]
  },
  {
   "cell_type": "markdown",
   "metadata": {},
   "source": [
    "### Data Preprocessing"
   ]
  },
  {
   "cell_type": "markdown",
   "metadata": {},
   "source": [
    "### Shuffle and Split Data"
   ]
  },
  {
   "cell_type": "markdown",
   "metadata": {},
   "source": [
    "### Model Training"
   ]
  },
  {
   "cell_type": "code",
   "execution_count": 55,
   "metadata": {},
   "outputs": [],
   "source": [
    "from sklearn.feature_extraction.text import TfidfVectorizer"
   ]
  },
  {
   "cell_type": "code",
   "execution_count": 108,
   "metadata": {},
   "outputs": [],
   "source": [
    "# This will take care of data preprocessing step to exclude stop words.\n",
    "vectorizer = TfidfVectorizer(stop_words='english')\n",
    "X = vectorizer.fit_transform(dataset['title'])"
   ]
  },
  {
   "cell_type": "code",
   "execution_count": 109,
   "metadata": {},
   "outputs": [
    {
     "name": "stdout",
     "output_type": "stream",
     "text": [
      "(684, 863)\n"
     ]
    }
   ],
   "source": [
    "print(X.shape)"
   ]
  },
  {
   "cell_type": "code",
   "execution_count": 118,
   "metadata": {},
   "outputs": [],
   "source": [
    "# sklearn's cosine_similarity\n",
    "from sklearn.metrics.pairwise import cosine_similarity\n",
    "\n",
    "cosine_sim = cosine_similarity(X, X)"
   ]
  },
  {
   "cell_type": "code",
   "execution_count": 119,
   "metadata": {},
   "outputs": [],
   "source": [
    "# sklearn's linear_kernel\n",
    "# from sklearn.metrics.pairwise import linear_kernel\n",
    "\n",
    "# cosine_sim = linear_kernel(X, X)"
   ]
  },
  {
   "cell_type": "code",
   "execution_count": 143,
   "metadata": {},
   "outputs": [],
   "source": [
    "# Construct the reverse map of indices and movie titles\n",
    "\n",
    "# This will act similar to hash.\n",
    "indices = pd.Series(dataset.index, index=dataset['title']).drop_duplicates()"
   ]
  },
  {
   "cell_type": "code",
   "execution_count": 141,
   "metadata": {},
   "outputs": [],
   "source": [
    "def get_recommendations(title, cosine_sim=cosine_sim):\n",
    "    # Get the record that matches the title\n",
    "    idx = indices[title]\n",
    "\n",
    "    # Get the pairwise similarity scores of all movies with that movie.\n",
    "    sim_scores = list(enumerate(cosine_sim[idx]))\n",
    "\n",
    "    # Sort the movie by their similarity scores.\n",
    "    sim_scores = sorted(sim_scores, key=lambda x: x[1], reverse=True)\n",
    "\n",
    "    # Get the scores of the top 10 movies.\n",
    "    sim_scores = sim_scores[1:11]\n",
    "\n",
    "    # Get the movie indices.\n",
    "    movie_indices = [i[0] for i in sim_scores]\n",
    "\n",
    "    # Get the top 10 movies.\n",
    "    return dataset['title'].iloc[movie_indices]"
   ]
  },
  {
   "cell_type": "code",
   "execution_count": 142,
   "metadata": {},
   "outputs": [
    {
     "name": "stdout",
     "output_type": "stream",
     "text": [
      "53\n",
      "[(0, 0.0), (1, 0.0), (2, 0.0), (3, 0.0), (4, 0.0), (5, 0.0), (6, 0.0), (7, 0.0), (8, 0.0), (9, 0.2678122476129378), (10, 0.3253198639664405), (11, 0.26023524042473434), (12, 0.2497830097280152), (13, 0.28396228458908446), (14, 0.0), (15, 0.20752597072896306), (16, 0.22808763288444972), (17, 0.27484752391510603), (18, 0.21225630805799003), (19, 0.21137707280073853), (20, 0.19379089122528415), (21, 0.19732144610677832), (22, 0.2488972281492887), (23, 0.171362588026551), (24, 0.1704360280198961), (25, 0.19011209540388657), (26, 0.23711033941125104), (27, 0.21253294274212248), (28, 0.0), (29, 0.07449993136019066), (30, 0.0), (31, 0.0), (32, 0.12920257767492832), (33, 0.0), (34, 0.0), (35, 0.0), (36, 0.0), (37, 0.0), (38, 0.1457012037262691), (39, 0.07020873553767154), (40, 0.0), (41, 0.24197843450613388), (42, 0.0), (43, 0.0), (44, 0.0), (45, 0.0), (46, 0.20902910816181647), (47, 0.25483447799071896), (48, 0.24669113652980013), (49, 0.29009317907914983), (50, 0.0), (51, 0.0), (52, 0.27195820401478543), (53, 1.0), (54, 0.19419613941623928), (55, 0.0), (56, 0.0), (57, 0.0), (58, 0.0), (59, 0.0), (60, 0.0), (61, 0.0), (62, 0.0), (63, 0.0), (64, 0.0), (65, 0.0), (66, 0.0), (67, 0.0), (68, 0.0), (69, 0.0), (70, 0.0), (71, 0.0), (72, 0.0), (73, 0.0), (74, 0.0), (75, 0.0), (76, 0.0), (77, 0.0), (78, 0.0), (79, 0.0), (80, 0.0), (81, 0.0), (82, 0.0), (83, 0.0), (84, 0.0), (85, 0.0), (86, 0.0), (87, 0.0), (88, 0.0), (89, 0.0), (90, 0.0), (91, 0.0), (92, 0.0), (93, 0.0), (94, 0.0), (95, 0.0), (96, 0.0), (97, 0.0), (98, 0.0), (99, 0.0), (100, 0.0), (101, 0.0), (102, 0.0), (103, 0.0), (104, 0.0), (105, 0.0), (106, 0.0), (107, 0.0), (108, 0.0), (109, 0.0), (110, 0.0), (111, 0.0), (112, 0.0), (113, 0.0), (114, 0.0), (115, 0.0), (116, 0.0), (117, 0.0), (118, 0.0), (119, 0.0), (120, 0.0), (121, 0.0), (122, 0.0), (123, 0.0), (124, 0.0), (125, 0.0), (126, 0.0), (127, 0.0), (128, 0.0), (129, 0.0), (130, 0.0), (131, 0.0), (132, 0.0), (133, 0.0), (134, 0.0), (135, 0.0), (136, 0.0), (137, 0.0), (138, 0.17199405954946406), (139, 0.0), (140, 0.0), (141, 0.0), (142, 0.0), (143, 0.0), (144, 0.0), (145, 0.0), (146, 0.0), (147, 0.0), (148, 0.0), (149, 0.0), (150, 0.0), (151, 0.0), (152, 0.0), (153, 0.0), (154, 0.0), (155, 0.0), (156, 0.0), (157, 0.0), (158, 0.0), (159, 0.0), (160, 0.0), (161, 0.0), (162, 0.0), (163, 0.0), (164, 0.0), (165, 0.13108861627921764), (166, 0.0), (167, 0.0), (168, 0.0), (169, 0.0), (170, 0.0), (171, 0.0), (172, 0.0), (173, 0.0), (174, 0.0), (175, 0.0), (176, 0.0), (177, 0.0), (178, 0.0), (179, 0.0), (180, 0.0), (181, 0.0), (182, 0.0), (183, 0.0), (184, 0.0), (185, 0.0), (186, 0.0), (187, 0.0), (188, 0.0), (189, 0.0), (190, 0.0), (191, 0.0), (192, 0.0), (193, 0.0), (194, 0.0), (195, 0.0), (196, 0.0), (197, 0.0), (198, 0.0), (199, 0.0), (200, 0.0), (201, 0.0), (202, 0.0), (203, 0.0), (204, 0.0), (205, 0.0), (206, 0.0), (207, 0.0), (208, 0.0), (209, 0.0), (210, 0.0), (211, 0.0), (212, 0.0), (213, 0.2774227880797176), (214, 0.0), (215, 0.0), (216, 0.0), (217, 0.0), (218, 0.0), (219, 0.2463228215598482), (220, 0.0), (221, 0.0), (222, 0.0), (223, 0.0), (224, 0.1828408524836279), (225, 0.0), (226, 0.0), (227, 0.0), (228, 0.0), (229, 0.0), (230, 0.0), (231, 0.0), (232, 0.0), (233, 0.06614487296811893), (234, 0.0), (235, 0.10748188807689063), (236, 0.1938648785546891), (237, 0.0), (238, 0.0), (239, 0.0), (240, 0.0), (241, 0.0), (242, 0.0), (243, 0.0), (244, 0.0), (245, 0.0), (246, 0.0), (247, 0.21973164979086987), (248, 0.0), (249, 0.26428715743389597), (250, 0.0), (251, 0.0), (252, 0.0), (253, 0.0), (254, 0.21667494356918154), (255, 0.15364633893087037), (256, 0.2435737850956372), (257, 0.0), (258, 0.0), (259, 0.27185210244749447), (260, 0.19750415881313177), (261, 0.21302055106473233), (262, 0.24374506928603606), (263, 0.2686500060584439), (264, 0.264519930870626), (265, 0.24391033084496583), (266, 0.2586400573070168), (267, 0.22639733997931655), (268, 0.2449519211709092), (269, 0.10335061831008477), (270, 0.0), (271, 0.21076831722006145), (272, 0.3066401183955907), (273, 0.0), (274, 0.0), (275, 0.27165945789135837), (276, 0.0), (277, 0.0), (278, 0.0), (279, 0.0), (280, 0.0), (281, 0.26135336307831186), (282, 0.16512976659268783), (283, 0.3430180086458714), (284, 0.47232057815314965), (285, 0.0), (286, 0.27395184565549), (287, 0.19217886136946186), (288, 0.11297674375020608), (289, 0.0), (290, 0.10584434434695641), (291, 0.10584434434695641), (292, 0.12375062946383875), (293, 0.0), (294, 0.0), (295, 0.182239301550358), (296, 0.2942312523247379), (297, 0.1445248284865195), (298, 0.31139513434439337), (299, 0.14407386798339747), (300, 0.2870778159997594), (301, 0.15397466132363252), (302, 0.0), (303, 0.0), (304, 0.21657033404886794), (305, 0.12497547918415858), (306, 0.26616476659466254), (307, 0.13858422399695586), (308, 0.2153941591748365), (309, 0.30327131500500143), (310, 0.16929663547372545), (311, 0.17292553839885336), (312, 0.2665874980251438), (313, 0.1476443003799345), (314, 0.1358110769254675), (315, 0.2950064897340481), (316, 0.15864830422692228), (317, 0.15218840212384993), (318, 0.16578552037672312), (319, 0.180821621217015), (320, 0.0), (321, 0.34512846100014494), (322, 0.5322962145042084), (323, 0.2523272423083336), (324, 0.0), (325, 0.0), (326, 0.0), (327, 0.3862301436263571), (328, 0.0), (329, 0.0), (330, 0.0), (331, 0.0), (332, 0.0), (333, 0.0), (334, 0.0), (335, 0.0), (336, 0.0), (337, 0.0), (338, 0.0), (339, 0.0), (340, 0.0), (341, 0.0), (342, 0.0), (343, 0.0), (344, 0.0), (345, 0.0), (346, 0.0), (347, 0.0), (348, 0.0), (349, 0.0), (350, 0.0), (351, 0.0), (352, 0.0), (353, 0.0), (354, 0.0), (355, 0.0), (356, 0.0), (357, 0.0), (358, 0.0), (359, 0.0), (360, 0.0), (361, 0.0), (362, 0.0), (363, 0.0), (364, 0.0), (365, 0.0), (366, 0.0), (367, 0.0), (368, 0.0), (369, 0.0), (370, 0.0), (371, 0.0), (372, 0.0), (373, 0.0), (374, 0.0), (375, 0.0), (376, 0.0), (377, 0.0), (378, 0.0), (379, 0.0), (380, 0.0), (381, 0.0), (382, 0.0), (383, 0.0), (384, 0.0), (385, 0.0), (386, 0.0), (387, 0.0), (388, 0.0), (389, 0.15795757876556643), (390, 0.0), (391, 0.21709003613187688), (392, 0.0), (393, 0.0), (394, 0.0), (395, 0.0), (396, 0.0), (397, 0.0), (398, 0.0), (399, 0.0), (400, 0.0), (401, 0.0), (402, 0.0), (403, 0.0), (404, 0.0), (405, 0.0), (406, 0.0), (407, 0.0), (408, 0.0), (409, 0.0), (410, 0.0), (411, 0.0), (412, 0.0), (413, 0.0), (414, 0.0), (415, 0.0), (416, 0.0), (417, 0.0), (418, 0.0), (419, 0.0), (420, 0.0), (421, 0.0), (422, 0.0), (423, 0.0), (424, 0.0), (425, 0.0), (426, 0.0), (427, 0.0), (428, 0.0), (429, 0.0), (430, 0.0), (431, 0.0), (432, 0.0), (433, 0.0), (434, 0.0), (435, 0.0), (436, 0.0), (437, 0.0), (438, 0.0), (439, 0.0), (440, 0.0), (441, 0.0), (442, 0.0), (443, 0.0), (444, 0.0), (445, 0.0), (446, 0.0), (447, 0.0), (448, 0.0), (449, 0.0), (450, 0.0), (451, 0.0), (452, 0.0), (453, 0.0), (454, 0.0), (455, 0.0), (456, 0.0), (457, 0.0), (458, 0.0), (459, 0.0), (460, 0.0), (461, 0.0), (462, 0.0), (463, 0.0), (464, 0.0), (465, 0.0), (466, 0.0), (467, 0.0), (468, 0.0), (469, 0.0), (470, 0.0), (471, 0.0), (472, 0.0), (473, 0.0), (474, 0.0), (475, 0.0), (476, 0.0), (477, 0.0), (478, 0.0), (479, 0.0), (480, 0.0), (481, 0.0), (482, 0.0), (483, 0.0), (484, 0.0), (485, 0.0), (486, 0.0), (487, 0.0), (488, 0.0), (489, 0.0), (490, 0.0), (491, 0.0), (492, 0.0), (493, 0.0), (494, 0.0), (495, 0.0), (496, 0.0), (497, 0.0), (498, 0.0), (499, 0.0), (500, 0.0), (501, 0.0), (502, 0.0), (503, 0.0), (504, 0.0), (505, 0.0), (506, 0.2174444023331294), (507, 0.0), (508, 0.0), (509, 0.0), (510, 0.0), (511, 0.0), (512, 0.0), (513, 0.0), (514, 0.0), (515, 0.0), (516, 0.0), (517, 0.0), (518, 0.0), (519, 0.0), (520, 0.0), (521, 0.0), (522, 0.0), (523, 0.0), (524, 0.0), (525, 0.0), (526, 0.0), (527, 0.0), (528, 0.0), (529, 0.0), (530, 0.0), (531, 0.0), (532, 0.0), (533, 0.0), (534, 0.0), (535, 0.0), (536, 0.0), (537, 0.0), (538, 0.0), (539, 0.0), (540, 0.0), (541, 0.0), (542, 0.0), (543, 0.0), (544, 0.0), (545, 0.0), (546, 0.0), (547, 0.0), (548, 0.0), (549, 0.0), (550, 0.0), (551, 0.0), (552, 0.0), (553, 0.0), (554, 0.0), (555, 0.0), (556, 0.0), (557, 0.0), (558, 0.0), (559, 0.0), (560, 0.0), (561, 0.0), (562, 0.0), (563, 0.0), (564, 0.0), (565, 0.0), (566, 0.0), (567, 0.0), (568, 0.0), (569, 0.0), (570, 0.0), (571, 0.0), (572, 0.0), (573, 0.0), (574, 0.0), (575, 0.0), (576, 0.0), (577, 0.0), (578, 0.0), (579, 0.0), (580, 0.0), (581, 0.0), (582, 0.0), (583, 0.0), (584, 0.0), (585, 0.0), (586, 0.0), (587, 0.0), (588, 0.0), (589, 0.0), (590, 0.0), (591, 0.0), (592, 0.0), (593, 0.0), (594, 0.0), (595, 0.0), (596, 0.0), (597, 0.0), (598, 0.0), (599, 0.0), (600, 0.0), (601, 0.0), (602, 0.0), (603, 0.0), (604, 0.26621246938707516), (605, 0.0), (606, 0.0), (607, 0.0), (608, 0.0), (609, 0.0), (610, 0.0), (611, 0.0), (612, 0.0), (613, 0.0), (614, 0.0), (615, 0.0), (616, 0.0), (617, 0.0), (618, 0.0), (619, 0.0), (620, 0.0), (621, 0.0), (622, 0.0), (623, 0.0), (624, 0.0), (625, 0.0), (626, 0.0), (627, 0.0), (628, 0.0), (629, 0.0), (630, 0.0), (631, 0.0), (632, 0.0), (633, 0.0), (634, 0.0), (635, 0.0), (636, 0.0), (637, 0.0), (638, 0.06228999031719231), (639, 0.0), (640, 0.24252477553090604), (641, 0.0), (642, 0.0), (643, 0.0), (644, 0.0), (645, 0.0), (646, 0.0), (647, 0.0), (648, 0.0), (649, 0.0), (650, 0.23930120585331383), (651, 0.0), (652, 0.0), (653, 0.0), (654, 0.0), (655, 0.0), (656, 0.0), (657, 0.0), (658, 0.0), (659, 0.0), (660, 0.0), (661, 0.0), (662, 0.0), (663, 0.0), (664, 0.0), (665, 0.0), (666, 0.0), (667, 0.0), (668, 0.0), (669, 0.0), (670, 0.0), (671, 0.0), (672, 0.0), (673, 0.0), (674, 0.0), (675, 0.0), (676, 0.0), (677, 0.0), (678, 0.0), (679, 0.0), (680, 0.0), (681, 0.0), (682, 0.3252188420265652), (683, 0.0)]\n"
     ]
    },
    {
     "data": {
      "text/plain": [
       "322                     What Is Time Series Forecasting?\n",
       "284    10 Challenging Machine Learning Time Series Fo...\n",
       "327          Top Books on Time Series Forecasting With R\n",
       "321       Time Series Forecasting as Supervised Learning\n",
       "283       Python Environment for Time Series Forecasting\n",
       "10     How to Develop LSTM Models for Time Series For...\n",
       "682                  Practical Machine Learning Problems\n",
       "298    How to Make Predictions for Time Series Foreca...\n",
       "272    Feature Selection for Time Series Forecasting ...\n",
       "309    Autoregression Models for Time Series Forecast...\n",
       "Name: title, dtype: object"
      ]
     },
     "execution_count": 142,
     "metadata": {},
     "output_type": "execute_result"
    }
   ],
   "source": [
    "get_recommendations(\"Taxonomy of Time Series Forecasting Problems\")"
   ]
  },
  {
   "cell_type": "code",
   "execution_count": 106,
   "metadata": {},
   "outputs": [],
   "source": [
    "# linear_kernel returns:\n",
    "\n",
    "# 53          Taxonomy of Time Series Forecasting Problems\n",
    "# 322                     What Is Time Series Forecasting?\n",
    "# 682                  Practical Machine Learning Problems\n",
    "# 327          Top Books on Time Series Forecasting With R\n",
    "# 321       Time Series Forecasting as Supervised Learning\n",
    "# 315    How To Backtest Machine Learning Models for Ti...\n",
    "# 283       Python Environment for Time Series Forecasting\n",
    "# 323          7 Time Series Datasets for Machine Learning\n",
    "# 52     How to Develop a Skillful Machine Learning Tim...\n",
    "# 10     How to Develop LSTM Models for Time Series For..."
   ]
  },
  {
   "cell_type": "code",
   "execution_count": null,
   "metadata": {},
   "outputs": [],
   "source": [
    "# cosine_similarity\n",
    "\n",
    "# 53          Taxonomy of Time Series Forecasting Problems\n",
    "# 322                     What Is Time Series Forecasting?\n",
    "# 682                  Practical Machine Learning Problems\n",
    "# 327          Top Books on Time Series Forecasting With R\n",
    "# 321       Time Series Forecasting as Supervised Learning\n",
    "# 315    How To Backtest Machine Learning Models for Ti...\n",
    "# 283       Python Environment for Time Series Forecasting\n",
    "# 323          7 Time Series Datasets for Machine Learning\n",
    "# 52     How to Develop a Skillful Machine Learning Tim...\n",
    "# 10     How to Develop LSTM Models for Time Series For..."
   ]
  }
 ],
 "metadata": {
  "kernelspec": {
   "display_name": "Python 3",
   "language": "python",
   "name": "python3"
  },
  "language_info": {
   "codemirror_mode": {
    "name": "ipython",
    "version": 3
   },
   "file_extension": ".py",
   "mimetype": "text/x-python",
   "name": "python",
   "nbconvert_exporter": "python",
   "pygments_lexer": "ipython3",
   "version": "3.6.4"
  }
 },
 "nbformat": 4,
 "nbformat_minor": 2
}
